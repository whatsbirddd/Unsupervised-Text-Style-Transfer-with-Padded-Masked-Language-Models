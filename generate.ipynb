{
 "cells": [
  {
   "cell_type": "code",
   "execution_count": 15,
   "metadata": {},
   "outputs": [
    {
     "name": "stdout",
     "output_type": "stream",
     "text": [
      "PyTorch version:[1.10.1+cu102].\n",
      "transformers version:[4.8.1].\n",
      "device:[cuda:0].\n"
     ]
    }
   ],
   "source": [
    "from glob import glob\n",
    "import os\n",
    "import json\n",
    "import numpy as np\n",
    "import pandas as pd\n",
    "import argparse\n",
    "import yaml\n",
    "import torch\n",
    "import random\n",
    "import time\n",
    "from typing import Optional\n",
    "\n",
    "from tqdm.auto import tqdm\n",
    "from tqdm import notebook\n",
    "\n",
    "import torch\n",
    "import torch.nn as nn\n",
    "import torch.optim as optim\n",
    "import torch.nn.functional as F\n",
    "\n",
    "import transformers\n",
    "from transformers import BertConfig, BertTokenizer, BertForMaskedLM\n",
    "\n",
    "#check torch version & device\n",
    "print (\"PyTorch version:[%s].\"%(torch.__version__))\n",
    "print (\"transformers version:[%s].\"%(transformers.__version__))\n",
    "device = torch.device('cuda:0' if torch.cuda.is_available() else 'cpu')\n",
    "print (\"device:[%s].\"%(device))"
   ]
  },
  {
   "cell_type": "code",
   "execution_count": 2,
   "metadata": {},
   "outputs": [],
   "source": [
    "cfg = {\n",
    "    'datadir' : '../data/Part1',\n",
    "    'savedir' : '../data-styleT',\n",
    "    'model'   : 'KRBERT/pytorch_model_char16424_ranked.bin',\n",
    "    'config'  : 'KRBERT/bert_config.json',\n",
    "    'MODEL'   : {'max_seq_length' : 512},\n",
    "    'DATASET' : {'num_train_nonbait' : 20000,},\n",
    "    'SEED':42    \n",
    "    }"
   ]
  },
  {
   "cell_type": "code",
   "execution_count": 10,
   "metadata": {},
   "outputs": [],
   "source": [
    "# generate\n",
    "def get_item(idx):\n",
    "    input = {}\n",
    "    for k in data['input'].keys():\n",
    "        input[k] = data['input'][k][i]\n",
    "    label = data['label'][i]\n",
    "    return input, label"
   ]
  },
  {
   "cell_type": "code",
   "execution_count": 17,
   "metadata": {},
   "outputs": [],
   "source": [
    "model = BertForMaskedLM.from_pretrained(\"model_output/checkpoint-77000/\")\n",
    "data = torch.load(os.path.join(cfg[\"savedir\"], 'infer.pt'))"
   ]
  },
  {
   "cell_type": "code",
   "execution_count": 18,
   "metadata": {},
   "outputs": [],
   "source": [
    "input, label = get_item(15)"
   ]
  },
  {
   "cell_type": "code",
   "execution_count": 32,
   "metadata": {},
   "outputs": [],
   "source": [
    "with torch.no_grad():\n",
    "    for key in input.keys():\n",
    "        input[key] = input[key].unsqueeze(0)\n",
    "    outputs = model(**input).logits"
   ]
  },
  {
   "cell_type": "code",
   "execution_count": 37,
   "metadata": {},
   "outputs": [
    {
     "name": "stdout",
     "output_type": "stream",
     "text": [
      "tensor([5, 6, 7, 8])\n"
     ]
    },
    {
     "data": {
      "text/plain": [
       "'세계...'"
      ]
     },
     "execution_count": 37,
     "metadata": {},
     "output_type": "execute_result"
    }
   ],
   "source": [
    "# retrieve index of [MASK]\n",
    "mask_token_index = (input[\"input_ids\"] == tokenizer.mask_token_id)[0].nonzero(as_tuple=True)[0]\n",
    "print(mask_token_index)\n",
    "predicted_token_id = outputs[0, mask_token_index].argmax(axis=-1)\n",
    "tokenizer.decode(predicted_token_id) #학습이 제대로 안됨... 나 어떠카지..."
   ]
  },
  {
   "cell_type": "code",
   "execution_count": 38,
   "metadata": {},
   "outputs": [
    {
     "data": {
      "text/plain": [
       "'오늘이 보인다.'"
      ]
     },
     "execution_count": 38,
     "metadata": {},
     "output_type": "execute_result"
    }
   ],
   "source": [
    "tokenizer.decode(label[mask_token_index])"
   ]
  },
  {
   "cell_type": "code",
   "execution_count": 36,
   "metadata": {},
   "outputs": [
    {
     "data": {
      "text/plain": [
       "'[CLS] 한국 서예의 오늘이 보인다... 원곡서예상 수상작가전 [SEP] 현재 한국 서단의 다채로운 풍경을 보여주는 전시가 예술의전당 서예박물관 3층 전시장에서 열리고 있다. 원곡서예상 40주년 기념 수상작가전이다. 원곡서예상은 광복 이후 한국 서단을 이끌어온 서예가 원곡 ( 原 谷 ) 김기승 ( 1909 ~ 2000 ) 이 1978년 제정한 것으로, 지난 40년간 한국 서단을 지키는 든든한 버팀목 역할을 해왔다. 특정 계파에 기울지 않고 서단의 다양한 그룹을 포용해온 서예상으로 손꼽힌다. 이번 전시엔 이 상을 제정한 원곡의 유작 2점을 비롯해 제1회 수상자인 신두영 작가에서부터 올해 제40회 수상자인 강대희 작가까지 총 40인 작가의 작품이 나왔다. 작고한 일부 작가를 제외하고 모두 신작을 내놓은 것이 특징이다. 이동국 서예박물관 수석 큐레이터는 \\\\ \" 이번 전시는 현재 한국 서단에서 각기 뚜렷하게 자기 세계를 구축한 작가들이 총집결한 자리 \\\\ \" 라며 \\\\ \" 한글과 한자 서예는 물론 전서 · 예서 · 행서 · 초서와 실험 서예, 문인화 등 다양한 장르를 망라하고 있다. 한국 서단의 횡단면을 살펴볼 기회 \\\\ \" 라고 말했다. 전시장에서 가장 먼저 관람객을 맞는 작품은 제1회 수상자인 한글 서예가 신두영 작가의 글씨다. 신 작가는 훈민정음 창제 당시의 옛 글씨체를 토대로 현대적인 재해석을 담은 작업을 해왔다. 제2회 수상자이자 호남대 명예교수, 목인미술관 설립자인 전종주 작가는 회화의 이미지를 극대화한 작품으로 눈길을 끈다. 붓의 운용 기법과 효과에 대한 실험을 멈추지 않고, 서예의 현대화를 이끌어온 작가의 의지가 엿보이는 작품이다. 제19회 수상자인 허회태 작가의 작품도 주목할 만하다. 이번 전시에\\'[UNK] [UNK] 秋 夜 [UNK] [UNK] [UNK] ( 남강추야천봉월 ) [UNK] [UNK] [UNK] [UNK] [UNK] 樹 花 ( 북리춘풍만수화 )\\'라는 글씨를 내놓았다.\\'남쪽 강 가을밤에 천 봉우리에 달이 돋고, 북쪽마을 봄바람에 일만 꽃이 피네\\'라는 [SEP]'"
      ]
     },
     "execution_count": 36,
     "metadata": {},
     "output_type": "execute_result"
    }
   ],
   "source": [
    "tokenizer.decode(label)"
   ]
  }
 ],
 "metadata": {
  "kernelspec": {
   "display_name": "base",
   "language": "python",
   "name": "python3"
  },
  "language_info": {
   "codemirror_mode": {
    "name": "ipython",
    "version": 3
   },
   "file_extension": ".py",
   "mimetype": "text/x-python",
   "name": "python",
   "nbconvert_exporter": "python",
   "pygments_lexer": "ipython3",
   "version": "3.8.13"
  },
  "orig_nbformat": 4
 },
 "nbformat": 4,
 "nbformat_minor": 2
}
